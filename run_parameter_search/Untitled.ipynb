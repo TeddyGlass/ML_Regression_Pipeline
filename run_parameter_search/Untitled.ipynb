{
 "cells": [
  {
   "cell_type": "code",
   "execution_count": null,
   "metadata": {
    "scrolled": true
   },
   "outputs": [
    {
     "name": "stdout",
     "output_type": "stream",
     "text": [
      "optimize_start\n"
     ]
    },
    {
     "name": "stderr",
     "output_type": "stream",
     "text": [
      "c:\\users\\mmi-05\\miniconda3\\envs\\ml\\lib\\site-packages\\sklearn\\model_selection\\_split.py:296: FutureWarning:\n",
      "\n",
      "Setting a random_state has no effect since shuffle is False. This will raise an error in 0.24. You should leave random_state to its default (None), or set shuffle=True.\n",
      "\n",
      "[I 2020-02-13 18:06:08,901] Finished trial#3 resulted in value: 0.627605046602848. Current best value is 0.627605046602848 with parameters: {'num_leaves': 94, 'subsample': 0.8111212564652823, 'colsample_bytree': 0.8335896664412751, 'min_child_weight': 7.376885249234633, 'min_child_samples': 268, 'min_split_gain': 0.09336780295813248}.\n",
      "c:\\users\\mmi-05\\miniconda3\\envs\\ml\\lib\\site-packages\\sklearn\\model_selection\\_split.py:296: FutureWarning:\n",
      "\n",
      "Setting a random_state has no effect since shuffle is False. This will raise an error in 0.24. You should leave random_state to its default (None), or set shuffle=True.\n",
      "\n",
      "[I 2020-02-13 18:06:10,752] Finished trial#0 resulted in value: 0.6243194313174156. Current best value is 0.6243194313174156 with parameters: {'num_leaves': 114, 'subsample': 0.8257561647868201, 'colsample_bytree': 0.9392073431324559, 'min_child_weight': 1.6577703147535967, 'min_child_samples': 206, 'min_split_gain': 0.08043869166972666}.\n",
      "c:\\users\\mmi-05\\miniconda3\\envs\\ml\\lib\\site-packages\\sklearn\\model_selection\\_split.py:296: FutureWarning:\n",
      "\n",
      "Setting a random_state has no effect since shuffle is False. This will raise an error in 0.24. You should leave random_state to its default (None), or set shuffle=True.\n",
      "\n",
      "[I 2020-02-13 18:06:18,053] Finished trial#1 resulted in value: 0.6215258829449064. Current best value is 0.6215258829449064 with parameters: {'num_leaves': 110, 'subsample': 0.9282562992977124, 'colsample_bytree': 0.8297387086108217, 'min_child_weight': 0.18484655165515182, 'min_child_samples': 233, 'min_split_gain': 0.012393786896428153}.\n",
      "c:\\users\\mmi-05\\miniconda3\\envs\\ml\\lib\\site-packages\\sklearn\\model_selection\\_split.py:296: FutureWarning:\n",
      "\n",
      "Setting a random_state has no effect since shuffle is False. This will raise an error in 0.24. You should leave random_state to its default (None), or set shuffle=True.\n",
      "\n",
      "[I 2020-02-13 18:06:22,289] Finished trial#7 resulted in value: 0.6144904578417887. Current best value is 0.6144904578417887 with parameters: {'num_leaves': 91, 'subsample': 0.6863062324315672, 'colsample_bytree': 0.6561329150022508, 'min_child_weight': 0.24456862027206258, 'min_child_samples': 158, 'min_split_gain': 0.0004153352615480822}.\n",
      "c:\\users\\mmi-05\\miniconda3\\envs\\ml\\lib\\site-packages\\sklearn\\model_selection\\_split.py:296: FutureWarning:\n",
      "\n",
      "Setting a random_state has no effect since shuffle is False. This will raise an error in 0.24. You should leave random_state to its default (None), or set shuffle=True.\n",
      "\n",
      "[I 2020-02-13 18:06:22,617] Finished trial#8 resulted in value: 0.626409891867161. Current best value is 0.6144904578417887 with parameters: {'num_leaves': 91, 'subsample': 0.6863062324315672, 'colsample_bytree': 0.6561329150022508, 'min_child_weight': 0.24456862027206258, 'min_child_samples': 158, 'min_split_gain': 0.0004153352615480822}.\n",
      "c:\\users\\mmi-05\\miniconda3\\envs\\ml\\lib\\site-packages\\sklearn\\model_selection\\_split.py:296: FutureWarning:\n",
      "\n",
      "Setting a random_state has no effect since shuffle is False. This will raise an error in 0.24. You should leave random_state to its default (None), or set shuffle=True.\n",
      "\n",
      "[I 2020-02-13 18:06:36,818] Finished trial#4 resulted in value: 0.6154329884090839. Current best value is 0.6144904578417887 with parameters: {'num_leaves': 91, 'subsample': 0.6863062324315672, 'colsample_bytree': 0.6561329150022508, 'min_child_weight': 0.24456862027206258, 'min_child_samples': 158, 'min_split_gain': 0.0004153352615480822}.\n",
      "c:\\users\\mmi-05\\miniconda3\\envs\\ml\\lib\\site-packages\\sklearn\\model_selection\\_split.py:296: FutureWarning:\n",
      "\n",
      "Setting a random_state has no effect since shuffle is False. This will raise an error in 0.24. You should leave random_state to its default (None), or set shuffle=True.\n",
      "\n",
      "[I 2020-02-13 18:06:38,551] Finished trial#11 resulted in value: 0.6148776442501862. Current best value is 0.6144904578417887 with parameters: {'num_leaves': 91, 'subsample': 0.6863062324315672, 'colsample_bytree': 0.6561329150022508, 'min_child_weight': 0.24456862027206258, 'min_child_samples': 158, 'min_split_gain': 0.0004153352615480822}.\n",
      "c:\\users\\mmi-05\\miniconda3\\envs\\ml\\lib\\site-packages\\sklearn\\model_selection\\_split.py:296: FutureWarning:\n",
      "\n",
      "Setting a random_state has no effect since shuffle is False. This will raise an error in 0.24. You should leave random_state to its default (None), or set shuffle=True.\n",
      "\n",
      "[I 2020-02-13 18:07:11,533] Finished trial#14 resulted in value: 0.6247094450508499. Current best value is 0.6144904578417887 with parameters: {'num_leaves': 91, 'subsample': 0.6863062324315672, 'colsample_bytree': 0.6561329150022508, 'min_child_weight': 0.24456862027206258, 'min_child_samples': 158, 'min_split_gain': 0.0004153352615480822}.\n",
      "c:\\users\\mmi-05\\miniconda3\\envs\\ml\\lib\\site-packages\\sklearn\\model_selection\\_split.py:296: FutureWarning:\n",
      "\n",
      "Setting a random_state has no effect since shuffle is False. This will raise an error in 0.24. You should leave random_state to its default (None), or set shuffle=True.\n",
      "\n",
      "[I 2020-02-13 18:07:12,356] Finished trial#12 resulted in value: 0.6204908921095261. Current best value is 0.6144904578417887 with parameters: {'num_leaves': 91, 'subsample': 0.6863062324315672, 'colsample_bytree': 0.6561329150022508, 'min_child_weight': 0.24456862027206258, 'min_child_samples': 158, 'min_split_gain': 0.0004153352615480822}.\n",
      "c:\\users\\mmi-05\\miniconda3\\envs\\ml\\lib\\site-packages\\sklearn\\model_selection\\_split.py:296: FutureWarning:\n",
      "\n",
      "Setting a random_state has no effect since shuffle is False. This will raise an error in 0.24. You should leave random_state to its default (None), or set shuffle=True.\n",
      "\n",
      "[I 2020-02-13 18:07:24,491] Finished trial#15 resulted in value: 0.6249373417893483. Current best value is 0.6144904578417887 with parameters: {'num_leaves': 91, 'subsample': 0.6863062324315672, 'colsample_bytree': 0.6561329150022508, 'min_child_weight': 0.24456862027206258, 'min_child_samples': 158, 'min_split_gain': 0.0004153352615480822}.\n",
      "c:\\users\\mmi-05\\miniconda3\\envs\\ml\\lib\\site-packages\\sklearn\\model_selection\\_split.py:296: FutureWarning:\n",
      "\n",
      "Setting a random_state has no effect since shuffle is False. This will raise an error in 0.24. You should leave random_state to its default (None), or set shuffle=True.\n",
      "\n",
      "[I 2020-02-13 18:07:34,349] Finished trial#5 resulted in value: 0.6053330973999891. Current best value is 0.6053330973999891 with parameters: {'num_leaves': 102, 'subsample': 0.8146976865717657, 'colsample_bytree': 0.6884432261006238, 'min_child_weight': 4.330473660585317, 'min_child_samples': 117, 'min_split_gain': 0.04190686341416832}.\n",
      "c:\\users\\mmi-05\\miniconda3\\envs\\ml\\lib\\site-packages\\sklearn\\model_selection\\_split.py:296: FutureWarning:\n",
      "\n",
      "Setting a random_state has no effect since shuffle is False. This will raise an error in 0.24. You should leave random_state to its default (None), or set shuffle=True.\n",
      "\n",
      "[I 2020-02-13 18:07:41,677] Finished trial#18 resulted in value: 0.6147268808648473. Current best value is 0.6053330973999891 with parameters: {'num_leaves': 102, 'subsample': 0.8146976865717657, 'colsample_bytree': 0.6884432261006238, 'min_child_weight': 4.330473660585317, 'min_child_samples': 117, 'min_split_gain': 0.04190686341416832}.\n",
      "c:\\users\\mmi-05\\miniconda3\\envs\\ml\\lib\\site-packages\\sklearn\\model_selection\\_split.py:296: FutureWarning:\n",
      "\n",
      "Setting a random_state has no effect since shuffle is False. This will raise an error in 0.24. You should leave random_state to its default (None), or set shuffle=True.\n",
      "\n",
      "[I 2020-02-13 18:08:00,990] Finished trial#6 resulted in value: 0.587783359107017. Current best value is 0.587783359107017 with parameters: {'num_leaves': 92, 'subsample': 0.8105349783891894, 'colsample_bytree': 0.6841790878346207, 'min_child_weight': 0.7206407119169477, 'min_child_samples': 54, 'min_split_gain': 0.0001318681081194955}.\n",
      "c:\\users\\mmi-05\\miniconda3\\envs\\ml\\lib\\site-packages\\sklearn\\model_selection\\_split.py:296: FutureWarning:\n",
      "\n",
      "Setting a random_state has no effect since shuffle is False. This will raise an error in 0.24. You should leave random_state to its default (None), or set shuffle=True.\n",
      "\n"
     ]
    },
    {
     "name": "stderr",
     "output_type": "stream",
     "text": [
      "[I 2020-02-13 18:08:03,531] Finished trial#10 resulted in value: 0.5876605596374861. Current best value is 0.5876605596374861 with parameters: {'num_leaves': 99, 'subsample': 0.8633398635627731, 'colsample_bytree': 0.7882406273271898, 'min_child_weight': 0.7882627432137439, 'min_child_samples': 35, 'min_split_gain': 0.0019977262749119587}.\n",
      "c:\\users\\mmi-05\\miniconda3\\envs\\ml\\lib\\site-packages\\sklearn\\model_selection\\_split.py:296: FutureWarning:\n",
      "\n",
      "Setting a random_state has no effect since shuffle is False. This will raise an error in 0.24. You should leave random_state to its default (None), or set shuffle=True.\n",
      "\n",
      "[I 2020-02-13 18:08:05,089] Finished trial#20 resulted in value: 0.6226587256459215. Current best value is 0.5876605596374861 with parameters: {'num_leaves': 99, 'subsample': 0.8633398635627731, 'colsample_bytree': 0.7882406273271898, 'min_child_weight': 0.7882627432137439, 'min_child_samples': 35, 'min_split_gain': 0.0019977262749119587}.\n",
      "c:\\users\\mmi-05\\miniconda3\\envs\\ml\\lib\\site-packages\\sklearn\\model_selection\\_split.py:296: FutureWarning:\n",
      "\n",
      "Setting a random_state has no effect since shuffle is False. This will raise an error in 0.24. You should leave random_state to its default (None), or set shuffle=True.\n",
      "\n",
      "[I 2020-02-13 18:08:08,010] Finished trial#19 resulted in value: 0.6233533136327738. Current best value is 0.5876605596374861 with parameters: {'num_leaves': 99, 'subsample': 0.8633398635627731, 'colsample_bytree': 0.7882406273271898, 'min_child_weight': 0.7882627432137439, 'min_child_samples': 35, 'min_split_gain': 0.0019977262749119587}.\n",
      "c:\\users\\mmi-05\\miniconda3\\envs\\ml\\lib\\site-packages\\sklearn\\model_selection\\_split.py:296: FutureWarning:\n",
      "\n",
      "Setting a random_state has no effect since shuffle is False. This will raise an error in 0.24. You should leave random_state to its default (None), or set shuffle=True.\n",
      "\n",
      "[I 2020-02-13 18:08:21,574] Finished trial#9 resulted in value: 0.5907155672721904. Current best value is 0.5876605596374861 with parameters: {'num_leaves': 99, 'subsample': 0.8633398635627731, 'colsample_bytree': 0.7882406273271898, 'min_child_weight': 0.7882627432137439, 'min_child_samples': 35, 'min_split_gain': 0.0019977262749119587}.\n",
      "c:\\users\\mmi-05\\miniconda3\\envs\\ml\\lib\\site-packages\\sklearn\\model_selection\\_split.py:296: FutureWarning:\n",
      "\n",
      "Setting a random_state has no effect since shuffle is False. This will raise an error in 0.24. You should leave random_state to its default (None), or set shuffle=True.\n",
      "\n",
      "[I 2020-02-13 18:08:28,112] Finished trial#16 resulted in value: 0.6028387254126025. Current best value is 0.5876605596374861 with parameters: {'num_leaves': 99, 'subsample': 0.8633398635627731, 'colsample_bytree': 0.7882406273271898, 'min_child_weight': 0.7882627432137439, 'min_child_samples': 35, 'min_split_gain': 0.0019977262749119587}.\n",
      "c:\\users\\mmi-05\\miniconda3\\envs\\ml\\lib\\site-packages\\sklearn\\model_selection\\_split.py:296: FutureWarning:\n",
      "\n",
      "Setting a random_state has no effect since shuffle is False. This will raise an error in 0.24. You should leave random_state to its default (None), or set shuffle=True.\n",
      "\n",
      "[I 2020-02-13 18:08:44,111] Finished trial#13 resulted in value: 0.5891669710844606. Current best value is 0.5876605596374861 with parameters: {'num_leaves': 99, 'subsample': 0.8633398635627731, 'colsample_bytree': 0.7882406273271898, 'min_child_weight': 0.7882627432137439, 'min_child_samples': 35, 'min_split_gain': 0.0019977262749119587}.\n",
      "c:\\users\\mmi-05\\miniconda3\\envs\\ml\\lib\\site-packages\\sklearn\\model_selection\\_split.py:296: FutureWarning:\n",
      "\n",
      "Setting a random_state has no effect since shuffle is False. This will raise an error in 0.24. You should leave random_state to its default (None), or set shuffle=True.\n",
      "\n"
     ]
    }
   ],
   "source": [
    "%run -i run.py"
   ]
  },
  {
   "cell_type": "code",
   "execution_count": null,
   "metadata": {},
   "outputs": [],
   "source": []
  }
 ],
 "metadata": {
  "kernelspec": {
   "display_name": "Python 3",
   "language": "python",
   "name": "python3"
  },
  "language_info": {
   "codemirror_mode": {
    "name": "ipython",
    "version": 3
   },
   "file_extension": ".py",
   "mimetype": "text/x-python",
   "name": "python",
   "nbconvert_exporter": "python",
   "pygments_lexer": "ipython3",
   "version": "3.6.10"
  }
 },
 "nbformat": 4,
 "nbformat_minor": 4
}
